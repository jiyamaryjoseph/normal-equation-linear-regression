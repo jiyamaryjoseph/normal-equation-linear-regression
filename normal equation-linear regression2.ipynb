{
 "cells": [
  {
   "cell_type": "code",
   "execution_count": 3,
   "id": "78035ad3",
   "metadata": {},
   "outputs": [
    {
     "data": {
      "text/plain": [
       "(100, 1)"
      ]
     },
     "execution_count": 3,
     "metadata": {},
     "output_type": "execute_result"
    }
   ],
   "source": [
    "import numpy as np\n",
    "import matplotlib.pyplot as plt\n",
    "%matplotlib inline\n",
    "plt.style.use(['ggplot'])\n",
    "\n",
    "X = 2 * np.random.rand(100,1)\n",
    "y = 4 +3 * X+np.random.randn(100,1)\n",
    "#kk=np.c_[X,y]\n",
    "#kk\n",
    "X.shape"
   ]
  },
  {
   "cell_type": "code",
   "execution_count": 7,
   "id": "d9720f07",
   "metadata": {},
   "outputs": [
    {
     "data": {
      "text/plain": [
       "(100, 1)"
      ]
     },
     "execution_count": 7,
     "metadata": {},
     "output_type": "execute_result"
    }
   ],
   "source": [
    "y.shape"
   ]
  },
  {
   "cell_type": "code",
   "execution_count": 2,
   "id": "9190ed26",
   "metadata": {},
   "outputs": [
    {
     "data": {
      "text/plain": [
       "(0.0, 2.0, 0.0, 15.0)"
      ]
     },
     "execution_count": 2,
     "metadata": {},
     "output_type": "execute_result"
    },
    {
     "data": {
      "image/png": "[encoded data removed]",
      "text/plain": [
       "<Figure size 432x288 with 1 Axes>"
      ]
     },
     "metadata": {},
     "output_type": "display_data"
    }
   ],
   "source": [
    "\n",
    "plt.plot(X,y,'b.')\n",
    "plt.xlabel(\"$x$\", fontsize=18)\n",
    "plt.ylabel(\"$y$\", rotation=0, fontsize=18)\n",
    "plt.axis([0,2,0,15])"
   ]
  },
  {
   "cell_type": "code",
   "execution_count": 6,
   "id": "36f9b6e1",
   "metadata": {},
   "outputs": [
    {
     "name": "stdout",
     "output_type": "stream",
     "text": [
      "[[1.         0.35952449]\n",
      " [1.         0.44533431]\n",
      " [1.         1.84355923]\n",
      " [1.         1.48503116]\n",
      " [1.         1.01979202]\n",
      " [1.         1.39065846]\n",
      " [1.         0.76936004]\n",
      " [1.         1.92392908]\n",
      " [1.         0.89760498]\n",
      " [1.         0.48725237]\n",
      " [1.         1.86536503]\n",
      " [1.         1.51979757]\n",
      " [1.         1.13475404]\n",
      " [1.         0.9654142 ]\n",
      " [1.         0.64629261]\n",
      " [1.         1.0665357 ]\n",
      " [1.         1.66755191]\n",
      " [1.         0.1039999 ]\n",
      " [1.         1.70949753]\n",
      " [1.         1.27409738]\n",
      " [1.         1.08318061]\n",
      " [1.         0.63418342]\n",
      " [1.         1.75877922]\n",
      " [1.         1.97978233]\n",
      " [1.         0.6127489 ]\n",
      " [1.         1.95491672]\n",
      " [1.         1.49717852]\n",
      " [1.         0.24512961]\n",
      " [1.         1.13241023]\n",
      " [1.         1.24809182]\n",
      " [1.         0.06665848]\n",
      " [1.         0.35480475]\n",
      " [1.         1.00037873]\n",
      " [1.         0.99731786]\n",
      " [1.         1.45913639]\n",
      " [1.         1.3075921 ]\n",
      " [1.         0.45290485]\n",
      " [1.         0.1905117 ]\n",
      " [1.         1.53503324]\n",
      " [1.         1.9523436 ]\n",
      " [1.         0.34260548]\n",
      " [1.         0.30354577]\n",
      " [1.         1.14978301]\n",
      " [1.         0.44201087]\n",
      " [1.         1.89161389]\n",
      " [1.         1.77248115]\n",
      " [1.         0.62755506]\n",
      " [1.         1.84252272]\n",
      " [1.         0.94090794]\n",
      " [1.         0.26622002]\n",
      " [1.         0.20820931]\n",
      " [1.         1.16097857]\n",
      " [1.         0.28107106]\n",
      " [1.         0.21759522]\n",
      " [1.         1.88292155]\n",
      " [1.         0.53319161]\n",
      " [1.         1.2268824 ]\n",
      " [1.         0.23102899]\n",
      " [1.         1.53607683]\n",
      " [1.         1.02515439]\n",
      " [1.         1.48444743]\n",
      " [1.         1.3013274 ]\n",
      " [1.         0.29117298]\n",
      " [1.         1.58415477]\n",
      " [1.         1.02031263]\n",
      " [1.         1.48832088]\n",
      " [1.         0.38593854]\n",
      " [1.         1.24431459]\n",
      " [1.         0.20819185]\n",
      " [1.         1.97482885]\n",
      " [1.         0.59500109]\n",
      " [1.         1.52585375]\n",
      " [1.         1.19851905]\n",
      " [1.         1.67458673]\n",
      " [1.         1.87197033]\n",
      " [1.         0.59655914]\n",
      " [1.         0.60484922]\n",
      " [1.         1.67433031]\n",
      " [1.         0.53528548]\n",
      " [1.         0.86094966]\n",
      " [1.         0.48240641]\n",
      " [1.         0.82476878]\n",
      " [1.         0.23264803]\n",
      " [1.         1.1257986 ]\n",
      " [1.         0.92618887]\n",
      " [1.         1.38037225]\n",
      " [1.         1.09565323]\n",
      " [1.         0.6631587 ]\n",
      " [1.         1.98853249]\n",
      " [1.         1.56781791]\n",
      " [1.         0.67923303]\n",
      " [1.         0.88684895]\n",
      " [1.         0.50022744]\n",
      " [1.         0.01669548]\n",
      " [1.         0.28556893]\n",
      " [1.         0.8476345 ]\n",
      " [1.         0.88610349]\n",
      " [1.         1.89576581]\n",
      " [1.         0.28431569]\n",
      " [1.         1.70498976]]\n",
      "[[4.15695275]\n",
      " [2.86744736]]\n"
     ]
    }
   ],
   "source": [
    "X_b = np.c_[np.ones((100,1)),X]\n",
    "print(X_b)\n",
    "theta_best = np.linalg.inv(X_b.T.dot(X_b)).dot(X_b.T).dot(y)\n",
    "print(theta_best)"
   ]
  },
  {
   "cell_type": "code",
   "execution_count": 7,
   "id": "78d64383",
   "metadata": {},
   "outputs": [
    {
     "name": "stdout",
     "output_type": "stream",
     "text": [
      "[[0]\n",
      " [2]]\n",
      "[[1. 0.]\n",
      " [1. 2.]]\n"
     ]
    },
    {
     "data": {
      "text/plain": [
       "array([[4.15695275],\n",
       "       [9.89184746]])"
      ]
     },
     "execution_count": 7,
     "metadata": {},
     "output_type": "execute_result"
    }
   ],
   "source": [
    "X_new = np.array([[0],[2]])\n",
    "print(X_new)\n",
    "X_new_b = np.c_[np.ones((2,1)),X_new]\n",
    "print(X_new_b)\n",
    "y_predict = X_new_b.dot(theta_best)\n",
    "\n",
    "y_predict"
   ]
  },
  {
   "cell_type": "code",
   "execution_count": 23,
   "id": "133f85c1",
   "metadata": {},
   "outputs": [
    {
     "data": {
      "text/plain": [
       "(0.0, 2.0, 0.0, 15.0)"
      ]
     },
     "execution_count": 23,
     "metadata": {},
     "output_type": "execute_result"
    },
    {
     "data": {
      "image/png": "[encoded data removed]",
      "text/plain": [
       "<Figure size 432x288 with 1 Axes>"
      ]
     },
     "metadata": {},
     "output_type": "display_data"
    }
   ],
   "source": [
    "\n",
    "plt.plot(X_new,y_predict,'r-')\n",
    "plt.plot(X,y,'b.')\n",
    "plt.xlabel(\"$x_1$\", fontsize=18)\n",
    "plt.ylabel(\"$y$\", rotation=0, fontsize=18)\n",
    "plt.axis([0,2,0,15])"
   ]
  },
  {
   "cell_type": "code",
   "execution_count": null,
   "id": "e2d0dfd1",
   "metadata": {},
   "outputs": [],
   "source": []
  }
 ],
 "metadata": {
  "kernelspec": {
   "display_name": "Python 3",
   "language": "python",
   "name": "python3"
  },
  "language_info": {
   "codemirror_mode": {
    "name": "ipython",
    "version": 3
   },
   "file_extension": ".py",
   "mimetype": "text/x-python",
   "name": "python",
   "nbconvert_exporter": "python",
   "pygments_lexer": "ipython3",
   "version": "3.8.8"
  }
 },
 "nbformat": 4,
 "nbformat_minor": 5
}
